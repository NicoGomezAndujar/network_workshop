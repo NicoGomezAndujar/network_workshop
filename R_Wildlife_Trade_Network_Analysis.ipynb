{
 "cells": [
  {
   "cell_type": "markdown",
   "metadata": {
    "Collapsed": "false",
    "colab_type": "text",
    "id": "view-in-github"
   },
   "source": [
    "<a href=\"https://colab.research.google.com/github/devansong/network_workshop/blob/master/R_Wildlife_Trade_Network_Analysis.ipynb\" target=\"_parent\"><img src=\"https://colab.research.google.com/assets/colab-badge.svg\" alt=\"Open In Colab\"/></a>"
   ]
  },
  {
   "cell_type": "markdown",
   "metadata": {
    "Collapsed": "false",
    "colab_type": "text",
    "id": "jdnkd2Mou52F"
   },
   "source": [
    "# URI Illegal Wildlife Trafficking: R workshop in network analysis"
   ]
  },
  {
   "cell_type": "markdown",
   "metadata": {
    "Collapsed": "false"
   },
   "source": [
    "## Setup"
   ]
  },
  {
   "cell_type": "markdown",
   "metadata": {
    "Collapsed": "false"
   },
   "source": [
    "This section installs and loads all the packages we need, and downloads the CITES dataset using the [citesdb](https://github.com/ropensci/citesdb) package.  We'll call this dataset `master`.\n",
    "\n",
    "This takes approximately 10-15 minutes to run."
   ]
  },
  {
   "cell_type": "code",
   "execution_count": null,
   "metadata": {
    "Collapsed": "false",
    "colab": {
     "base_uri": "https://localhost:8080/",
     "height": 102
    },
    "colab_type": "code",
    "id": "Sv1KY-dIsea6",
    "outputId": "5a513718-86ce-436e-cb96-54bb7e7b547b"
   },
   "outputs": [],
   "source": [
    "install.packages(\"igraph\")\n",
    "devtools::install_github(\"ropensci/citesdb\")\n",
    "\n",
    "library(igraph)\n",
    "library(tidyverse)\n",
    "library(citesdb)\n",
    "\n",
    "# Collect dataset, and remove NA's from the Importer/Exporter columns\n",
    "cites_db_download()\n",
    "master <- cites_shipments() %>% \n",
    "    collect()\n",
    "master$Importer[is.na(master$Importer)] <- \"\"\n",
    "master$Exporter[is.na(master$Exporter)] <- \"\""
   ]
  },
  {
   "cell_type": "markdown",
   "metadata": {
    "Collapsed": "false",
    "colab_type": "text",
    "id": "Kkck49milzTe"
   },
   "source": [
    "## Test\n",
    "Before we begin the class, let's make sure we can run some simple code and plot a graph. \n",
    "Click on each cell of code and press \"shift + enter\""
   ]
  },
  {
   "cell_type": "code",
   "execution_count": null,
   "metadata": {
    "Collapsed": "false",
    "colab": {},
    "colab_type": "code",
    "id": "5Tq3hqPUmQOu"
   },
   "outputs": [],
   "source": [
    "x <- c(1,3,6,9,12)\n",
    "y <- c(1.5,2,7,8,15)\n",
    "plot(\n",
    "    x, y, \n",
    "    xlab=\"x axis\", \n",
    "    ylab=\"y axis\", \n",
    "    main=\"my plot\",\n",
    "    ylim=c(0,20),\n",
    "    xlim=c(0,15), \n",
    "    pch=19,\n",
    "    col=\"blue\",\n",
    "    cex=3\n",
    ")"
   ]
  },
  {
   "cell_type": "markdown",
   "metadata": {
    "Collapsed": "false",
    "colab_type": "text",
    "id": "razF6ZtfmgA0"
   },
   "source": [
    "If you see a simple scatter plot with 5 data points, you have successfully run R code!"
   ]
  },
  {
   "cell_type": "markdown",
   "metadata": {
    "Collapsed": "false",
    "colab_type": "text",
    "id": "HzEug10N5HjK"
   },
   "source": [
    "## Explore the CITES dataset"
   ]
  },
  {
   "cell_type": "code",
   "execution_count": null,
   "metadata": {
    "Collapsed": "false",
    "colab": {
     "base_uri": "https://localhost:8080/",
     "height": 377
    },
    "colab_type": "code",
    "id": "cyRptfMN0GiW",
    "outputId": "37289732-3864-42c1-af46-d99069e5780f"
   },
   "outputs": [],
   "source": [
    "str(master)"
   ]
  },
  {
   "cell_type": "code",
   "execution_count": null,
   "metadata": {
    "Collapsed": "false",
    "colab": {
     "base_uri": "https://localhost:8080/",
     "height": 309
    },
    "colab_type": "code",
    "id": "a1vBzE3x0kdg",
    "outputId": "5a1d7be9-3959-4a93-def1-1aa8324c0a5b"
   },
   "outputs": [],
   "source": [
    "head(master)"
   ]
  },
  {
   "cell_type": "code",
   "execution_count": null,
   "metadata": {
    "Collapsed": "false",
    "colab": {
     "base_uri": "https://localhost:8080/",
     "height": 34
    },
    "colab_type": "code",
    "id": "YUTpetdy0lfr",
    "outputId": "c44e256c-a3ec-4890-d423-680ed0e37f17"
   },
   "outputs": [],
   "source": [
    "min(master$Year) "
   ]
  },
  {
   "cell_type": "code",
   "execution_count": null,
   "metadata": {
    "Collapsed": "false",
    "colab": {
     "base_uri": "https://localhost:8080/",
     "height": 34
    },
    "colab_type": "code",
    "id": "zui5AoO00tpM",
    "outputId": "55db9f3e-21f5-426b-904e-0e5825fe4a6c"
   },
   "outputs": [],
   "source": [
    "max(master$Year) "
   ]
  },
  {
   "cell_type": "code",
   "execution_count": null,
   "metadata": {
    "Collapsed": "false",
    "colab": {
     "base_uri": "https://localhost:8080/",
     "height": 170
    },
    "colab_type": "code",
    "id": "keTCPTKd0uNS",
    "outputId": "d5a4ec7e-d01c-4154-8433-d0a82c7b8ed9"
   },
   "outputs": [],
   "source": [
    "table(master$Class) "
   ]
  },
  {
   "cell_type": "code",
   "execution_count": null,
   "metadata": {
    "Collapsed": "false",
    "colab": {
     "base_uri": "https://localhost:8080/",
     "height": 170
    },
    "colab_type": "code",
    "id": "rQrmh0AF0wvB",
    "outputId": "10ef228d-5bdd-470c-e283-b30fb1ca01e0"
   },
   "outputs": [],
   "source": [
    "sort(table(master$Class))"
   ]
  },
  {
   "cell_type": "code",
   "execution_count": null,
   "metadata": {
    "Collapsed": "false",
    "colab": {
     "base_uri": "https://localhost:8080/",
     "height": 437
    },
    "colab_type": "code",
    "id": "iAMVul-405Gz",
    "outputId": "dbc9b536-3f6d-479c-ecf6-5f06bfe03d19"
   },
   "outputs": [],
   "source": [
    "plot(sort(table(master$Class)))"
   ]
  },
  {
   "cell_type": "markdown",
   "metadata": {
    "Collapsed": "false",
    "colab_type": "text",
    "id": "0Haa1pQ-47KD"
   },
   "source": [
    "## Functions"
   ]
  },
  {
   "cell_type": "code",
   "execution_count": null,
   "metadata": {
    "Collapsed": "false",
    "colab": {},
    "colab_type": "code",
    "id": "B4dkWEyE1h8E"
   },
   "outputs": [],
   "source": [
    "create_network <- function(data){\n",
    "  \n",
    "  sources <- data %>%\n",
    "    distinct(Exporter) %>%\n",
    "    rename(label = Exporter) #creates data frame of all countries of origin \n",
    "  \n",
    "  destinations <- data %>%\n",
    "    distinct(Importer) %>%\n",
    "    rename(label = Importer)#creates data frame of all countries importing \n",
    "  \n",
    "  nodes <- full_join(sources, destinations, by = \"label\") #creates data frame of all unique countries in your dataset \n",
    "  nodes <- nodes %>% rowid_to_column(\"id\") #creates numerical id for each unique country \n",
    "\n",
    "# this next section of code creates a tibble with export id, import id, and weight by number of shipments ~~~~  \n",
    "  per_route <- data %>%  \n",
    "    group_by(Exporter, Importer) %>%\n",
    "    summarise(weight = n()) %>% #number of observations in the current group\n",
    "    ungroup() #removes grouping \n",
    "  edges <- per_route %>% \n",
    "    left_join(nodes, by = c(\"Exporter\" = \"label\")) %>% \n",
    "    rename(from = id)\n",
    "  edges <- edges %>% \n",
    "    left_join(nodes, by = c(\"Importer\" = \"label\")) %>% \n",
    "    rename(to = id)\n",
    "  edges <- select(edges, from, to, weight)\n",
    "#~~~~~~~~~#\n",
    "  \n",
    "  #creates a directed igraph network from the edges and nodes defined above   \n",
    "  net <- graph_from_data_frame(d=edges, vertices=nodes, directed=T) \n",
    "}"
   ]
  },
  {
   "cell_type": "code",
   "execution_count": null,
   "metadata": {
    "Collapsed": "false",
    "colab": {},
    "colab_type": "code",
    "id": "IPp9CbWE5SdV"
   },
   "outputs": [],
   "source": [
    "plot_network <- function(igraph_network, title=\"trade network\", weight_denom=100, layout=layout_with_mds){\n",
    "  E(igraph_network)$width <- E(igraph_network)$weight/weight_denom\n",
    "  l <- layout(igraph_network)\n",
    "  plot(\n",
    "    igraph_network,\n",
    "    edge.color= rgb(70/255, 130/255, 180/255, 0.6),\n",
    "    edge.arrow.size=.001, \n",
    "    vertex.size = 7, \n",
    "    vertex.color=\"gold\", #(65,105,225)\n",
    "    vertex.label = V(igraph_network)$id,\n",
    "    vertex.label.cex = 0.6, \n",
    "    vertex.label.color = \"black\", \n",
    "    rescale=T, \n",
    "    layout=l*3.0, \n",
    "    main=title) \n",
    "}"
   ]
  },
  {
   "cell_type": "markdown",
   "metadata": {
    "Collapsed": "false",
    "colab_type": "text",
    "id": "CYMCfbeljFk9"
   },
   "source": [
    "## Create and visualize network"
   ]
  },
  {
   "cell_type": "code",
   "execution_count": null,
   "metadata": {
    "Collapsed": "false",
    "colab": {
     "base_uri": "https://localhost:8080/",
     "height": 150
    },
    "colab_type": "code",
    "id": "KAKMvCnp5VjO",
    "outputId": "1a1a194f-ea3b-4b10-bdfa-5a3841d9a438"
   },
   "outputs": [],
   "source": [
    "master_network <-create_network(master) "
   ]
  },
  {
   "cell_type": "code",
   "execution_count": null,
   "metadata": {
    "Collapsed": "false",
    "colab": {
     "base_uri": "https://localhost:8080/",
     "height": 437
    },
    "colab_type": "code",
    "id": "SowE_q285Xvh",
    "outputId": "315bb97d-8cb5-43e6-8bd0-9d7b134a0ba8"
   },
   "outputs": [],
   "source": [
    "plot_network(master_network, weight_denom=40000, layout = layout_randomly)"
   ]
  },
  {
   "cell_type": "code",
   "execution_count": null,
   "metadata": {
    "Collapsed": "false",
    "colab": {
     "base_uri": "https://localhost:8080/",
     "height": 85
    },
    "colab_type": "code",
    "id": "02IDTTVc5Zm5",
    "outputId": "d4379d98-dcab-4cd5-eb94-199ad41a0bfc"
   },
   "outputs": [],
   "source": [
    "list.vertex.attributes(master_network)\n",
    "which(V(master_network)$label == \"CZ\")\n",
    "which(V(master_network)$label == \"US\")\n",
    "which(V(master_network)$label == \"\")\n",
    "# Remove CZ (seems problematic) and empty vertex \n",
    "master_CZ_rem <- delete_vertices(master_network, c(220))\n",
    "master_CZ_rem <- delete_vertices(master_network, c(43))"
   ]
  },
  {
   "cell_type": "code",
   "execution_count": null,
   "metadata": {
    "Collapsed": "false",
    "colab": {},
    "colab_type": "code",
    "id": "TqsG1RKI6E_a"
   },
   "outputs": [],
   "source": [
    "master_network <- master_CZ_rem\n",
    "s1 <- subgraph.edges(master_network, E(master_network)[E(master_network)$weight>2000], del=F)\n",
    "s2 <- delete_vertices(s1, degree(s1, mode = \"in\")==0)\n",
    "plot_network(s2, weight_denom=40000, layout = layout_randomly)"
   ]
  },
  {
   "cell_type": "code",
   "execution_count": null,
   "metadata": {
    "Collapsed": "false",
    "colab": {},
    "colab_type": "code",
    "id": "2OOSNP196Z4W"
   },
   "outputs": [],
   "source": [
    "plot_network(s2, weight_denom=40000, layout = layout_with_fr)\n"
   ]
  },
  {
   "cell_type": "code",
   "execution_count": null,
   "metadata": {
    "Collapsed": "false",
    "colab": {},
    "colab_type": "code",
    "id": "d2-5L4Ze6gIx"
   },
   "outputs": [],
   "source": [
    "plot_network(s2, weight_denom=40000, layout = layout_with_mds)\n"
   ]
  },
  {
   "cell_type": "markdown",
   "metadata": {
    "Collapsed": "false",
    "colab_type": "text",
    "id": "6djbkdjtIPni"
   },
   "source": [
    "## Create 2 subsets of the data, create networks, and visually compare them"
   ]
  },
  {
   "cell_type": "code",
   "execution_count": null,
   "metadata": {
    "Collapsed": "false",
    "colab": {},
    "colab_type": "code",
    "id": "gJ1UgJlV6pOQ"
   },
   "outputs": [],
   "source": [
    "Amp_1992 <- subset(master, Class == \"Amphibia\" & Year == \"1992\") #Creates subset of 1992 amphibians\n",
    "Amp_2012 <- subset(master, Class == \"Amphibia\" & Year == \"2012\") #Creates subset of 2012 amphibians"
   ]
  },
  {
   "cell_type": "code",
   "execution_count": null,
   "metadata": {
    "Collapsed": "false",
    "colab": {},
    "colab_type": "code",
    "id": "FqzJTzEH7OpX"
   },
   "outputs": [],
   "source": [
    "net1<-create_network(Amp_1992) #Create network for subset 1\n",
    "net2 <-create_network(Amp_2012) #Create network for subset 2"
   ]
  },
  {
   "cell_type": "code",
   "execution_count": null,
   "metadata": {
    "Collapsed": "false",
    "colab": {},
    "colab_type": "code",
    "id": "wJ-K76CE7TEG"
   },
   "outputs": [],
   "source": [
    "par(mfrow=c(1,2))\n",
    "plot_network(net1, title=\"1992\", weight_denom=5, layout= layout_on_sphere)\n",
    "plot_network(net2, title=\"2012\", weight_denom=5, layout= layout_on_sphere)"
   ]
  },
  {
   "cell_type": "markdown",
   "metadata": {
    "Collapsed": "false",
    "colab_type": "text",
    "id": "xvVfcu3pjOhB"
   },
   "source": [
    "## Cluster analysis"
   ]
  },
  {
   "cell_type": "code",
   "execution_count": null,
   "metadata": {
    "Collapsed": "false",
    "colab": {},
    "colab_type": "code",
    "id": "BPuMF4sf7Vaw"
   },
   "outputs": [],
   "source": [
    "par(mfrow=c(1,2))\n",
    "cfg <- cluster_fast_greedy(as.undirected(net1))\n",
    "plot(cfg, as.undirected(net1)) \n",
    "title(main = \"Amphibians 1992\")\n",
    "cfg <- cluster_fast_greedy(as.undirected(net2))\n",
    "plot(cfg, as.undirected(net2)) \n",
    "title(main = \"Amphibians 2012\")"
   ]
  },
  {
   "cell_type": "markdown",
   "metadata": {
    "Collapsed": "false",
    "colab_type": "text",
    "id": "-_jLlCbZlRxu"
   },
   "source": [
    "## Exercise\n"
   ]
  },
  {
   "cell_type": "markdown",
   "metadata": {
    "Collapsed": "false",
    "colab": {},
    "colab_type": "code",
    "id": "kiEWZw-1lWuL"
   },
   "source": [
    "Modify the above 4 sections of code to compare two"
   ]
  },
  {
   "cell_type": "code",
   "execution_count": null,
   "metadata": {
    "Collapsed": "false",
    "colab": {},
    "colab_type": "code",
    "id": "vzX7DsZUlVNF"
   },
   "outputs": [],
   "source": []
  },
  {
   "cell_type": "markdown",
   "metadata": {
    "Collapsed": "false",
    "colab_type": "text",
    "id": "GpQkzt9dIknW"
   },
   "source": [
    "## Network and node descriptive stats"
   ]
  },
  {
   "cell_type": "code",
   "execution_count": null,
   "metadata": {
    "Collapsed": "false",
    "colab": {
     "base_uri": "https://localhost:8080/",
     "height": 96
    },
    "colab_type": "code",
    "id": "u9TasdGVIu-8",
    "outputId": "e92900d5-17a4-433e-b310-ab7843baf1d3"
   },
   "outputs": [],
   "source": [
    "ecount(net1)/(vcount(net1)*(vcount(net1)-1)) #for a directed network\n",
    "ecount(net2)/(vcount(net2)*(vcount(net2)-1)) #for a directed network"
   ]
  },
  {
   "cell_type": "code",
   "execution_count": null,
   "metadata": {
    "Collapsed": "false",
    "colab": {
     "base_uri": "https://localhost:8080/",
     "height": 96
    },
    "colab_type": "code",
    "id": "vTZXIz_aIxkN",
    "outputId": "c445a1bc-e029-4841-a5c8-bdf301688898"
   },
   "outputs": [],
   "source": [
    "reciprocity(net1)\n",
    "reciprocity(net2)"
   ]
  },
  {
   "cell_type": "code",
   "execution_count": null,
   "metadata": {
    "Collapsed": "false",
    "colab": {},
    "colab_type": "code",
    "id": "sy8pj4UzJCmR"
   },
   "outputs": [],
   "source": [
    "transitivity(net1, type=\"global\")\n",
    "transitivity(net2, type=\"global\")"
   ]
  },
  {
   "cell_type": "code",
   "execution_count": null,
   "metadata": {
    "Collapsed": "false",
    "colab": {},
    "colab_type": "code",
    "id": "80aDrStcMI_i"
   },
   "outputs": [],
   "source": [
    "diameter(net1, directed=F, weights=NA)\n",
    "diameter(net2, directed=F, weights=NA)"
   ]
  },
  {
   "cell_type": "code",
   "execution_count": null,
   "metadata": {
    "Collapsed": "false",
    "colab": {},
    "colab_type": "code",
    "id": "LQrAqIeBMfmH"
   },
   "outputs": [],
   "source": [
    "deg1 <- degree(net1, mode=\"all\") #NODE METRICS ************\n",
    "plot(net1, vertex.size=deg1*3, edge.arrow.size=0.1)\n",
    "hist(deg1, breaks=1:vcount(net1)-1, main=\"Histogram of node degree\")"
   ]
  },
  {
   "cell_type": "code",
   "execution_count": null,
   "metadata": {
    "Collapsed": "false"
   },
   "outputs": [],
   "source": [
    "deg2 <- degree(net2, mode=\"all\") #NODE METRICS ************\n",
    "plot(net2, vertex.size=deg2*3, edge.arrow.size=0.1)\n",
    "hist(deg2, breaks=1:vcount(net2)-1, main=\"Histogram of node degree\")"
   ]
  },
  {
   "cell_type": "markdown",
   "metadata": {
    "Collapsed": "false"
   },
   "source": [
    "## References\n",
    "Ross, Noam, Evan A. Eskew, and Nicolas Ray. 2019. citesdb: A high-performance database of shipment-level CITES trade data. R package v0.2.0. EcoHealth Alliance: New York, NY. https://github.com/ropensci/citesdb. doi:10.5281/zenodo.2630836\n",
    "\n",
    "UNEP-WCMC (Comps.) 2019. Full CITES Trade Database Download. Version 2019.2. CITES Secretariat, Geneva, Switzerland. Compiled by UNEP-WCMC, Cambridge, UK. Available at: https://trade.cites.org."
   ]
  }
 ],
 "metadata": {
  "colab": {
   "authorship_tag": "ABX9TyMsyiiobgSC3M4NrmqGNT/5",
   "collapsed_sections": [],
   "include_colab_link": true,
   "name": "R_Wildlife_Trade_Network_Analysis.ipynb",
   "provenance": [],
   "toc_visible": true
  },
  "kernelspec": {
   "display_name": "R",
   "language": "R",
   "name": "ir"
  },
  "language_info": {
   "codemirror_mode": "r",
   "file_extension": ".r",
   "mimetype": "text/x-r-source",
   "name": "R",
   "pygments_lexer": "r",
   "version": "3.2.3"
  }
 },
 "nbformat": 4,
 "nbformat_minor": 4
}
